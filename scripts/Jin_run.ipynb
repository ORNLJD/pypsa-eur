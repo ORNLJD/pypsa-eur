{
 "cells": [
  {
   "cell_type": "code",
   "execution_count": null,
   "metadata": {},
   "outputs": [],
   "source": []
  },
  {
   "cell_type": "markdown",
   "metadata": {},
   "source": [
    "https://pypsa-eur.readthedocs.io/en/latest/tutorial.html \n",
    "\n",
    "Run cmd:\n",
    "cp config.tutorial.yaml config.yaml\n",
    "\n",
    "snakemake -j 1 results/networks/elec_s_6_ec_lcopt_Co2L-24H.nc"
   ]
  }
 ],
 "metadata": {
  "interpreter": {
   "hash": "2fc764a3eb2bb65f8c86397dafff7a51667dd0822fd576ae40d928125590397b"
  },
  "kernelspec": {
   "display_name": "Python 3.9.10 ('pypsa-eur')",
   "language": "python",
   "name": "python3"
  },
  "language_info": {
   "name": "python",
   "version": "3.9.10"
  },
  "orig_nbformat": 4
 },
 "nbformat": 4,
 "nbformat_minor": 2
}
